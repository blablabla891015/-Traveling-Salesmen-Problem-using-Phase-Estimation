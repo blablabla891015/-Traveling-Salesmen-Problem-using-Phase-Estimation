{
 "cells": [
  {
   "cell_type": "code",
   "execution_count": 1,
   "id": "6f1334b4",
   "metadata": {},
   "outputs": [],
   "source": [
    "from numpy.random import randint\n",
    "import numpy as np\n",
    "from qiskit import *\n",
    "from qiskit import IBMQ\n",
    "from qiskit.visualization import plot_histogram,plot_bloch_multivector\n",
    "from qiskit.providers.ibmq import least_busy\n",
    "from qiskit.tools.monitor import job_monitor"
   ]
  },
  {
   "cell_type": "code",
   "execution_count": 2,
   "id": "49d5c2cf",
   "metadata": {},
   "outputs": [],
   "source": [
    "q1=QuantumRegister(4)\n",
    "c1=ClassicalRegister(4)\n",
    "qc1=QuantumCircuit(q1,c1)"
   ]
  },
  {
   "cell_type": "code",
   "execution_count": 3,
   "id": "ae1c8dc8",
   "metadata": {},
   "outputs": [
    {
     "data": {
      "text/html": [
       "<pre style=\"word-wrap: normal;white-space: pre;background: #fff0;line-height: 1.1;font-family: &quot;Courier New&quot;,Courier,monospace\">           ┌───┐\n",
       "q0_0: ─────┤ X ├\n",
       "      ┌───┐└─┬─┘\n",
       "q0_1: ┤ H ├──■──\n",
       "      └───┘┌───┐\n",
       "q0_2: ─────┤ X ├\n",
       "      ┌───┐└─┬─┘\n",
       "q0_3: ┤ H ├──■──\n",
       "      └───┘     \n",
       "c0: 4/══════════\n",
       "                </pre>"
      ],
      "text/plain": [
       "           ┌───┐\n",
       "q0_0: ─────┤ X ├\n",
       "      ┌───┐└─┬─┘\n",
       "q0_1: ┤ H ├──■──\n",
       "      └───┘┌───┐\n",
       "q0_2: ─────┤ X ├\n",
       "      ┌───┐└─┬─┘\n",
       "q0_3: ┤ H ├──■──\n",
       "      └───┘     \n",
       "c0: 4/══════════\n",
       "                "
      ]
     },
     "execution_count": 3,
     "metadata": {},
     "output_type": "execute_result"
    }
   ],
   "source": [
    "qc1.h(q1[1])\n",
    "qc1.cx(q1[1],q1[0])\n",
    "qc1.h(q1[3])\n",
    "qc1.cx(q1[3],q1[2])\n",
    "qc1.draw()"
   ]
  },
  {
   "cell_type": "code",
   "execution_count": 4,
   "id": "e2017fff",
   "metadata": {},
   "outputs": [
    {
     "data": {
      "text/html": [
       "<pre style=\"word-wrap: normal;white-space: pre;background: #fff0;line-height: 1.1;font-family: &quot;Courier New&quot;,Courier,monospace\">           ┌───┐┌───┐\n",
       "q0_0: ─────┤ X ├┤ X ├\n",
       "      ┌───┐└─┬─┘└───┘\n",
       "q0_1: ┤ H ├──■───────\n",
       "      └───┘┌───┐┌───┐\n",
       "q0_2: ─────┤ X ├┤ Z ├\n",
       "      ┌───┐└─┬─┘└───┘\n",
       "q0_3: ┤ H ├──■───────\n",
       "      └───┘          \n",
       "c0: 4/═══════════════\n",
       "                     </pre>"
      ],
      "text/plain": [
       "           ┌───┐┌───┐\n",
       "q0_0: ─────┤ X ├┤ X ├\n",
       "      ┌───┐└─┬─┘└───┘\n",
       "q0_1: ┤ H ├──■───────\n",
       "      └───┘┌───┐┌───┐\n",
       "q0_2: ─────┤ X ├┤ Z ├\n",
       "      ┌───┐└─┬─┘└───┘\n",
       "q0_3: ┤ H ├──■───────\n",
       "      └───┘          \n",
       "c0: 4/═══════════════\n",
       "                     "
      ]
     },
     "execution_count": 4,
     "metadata": {},
     "output_type": "execute_result"
    }
   ],
   "source": [
    "np.random.seed()\n",
    "n=4\n",
    "alice_bits=list(randint(2,size=n))\n",
    "\n",
    "#print(alice_bits)\n",
    "if alice_bits[:2]==[0,0]:\n",
    "    pass\n",
    "elif alice_bits[:2]==[0,1]:\n",
    "    qc1.x(q1[0])\n",
    "elif alice_bits[:2]==[1,0]:\n",
    "    qc1.z(q1[0])\n",
    "else:\n",
    "    qc1.z(q1[0])\n",
    "    qc1.x(q1[0])\n",
    "if alice_bits[2:]==[0,0]:\n",
    "    pass\n",
    "elif alice_bits[2:]==[0,1]:\n",
    "    qc1.x(q1[2])\n",
    "elif alice_bits[2:]==[1,0]:\n",
    "    qc1.z(q1[2])\n",
    "else:\n",
    "    qc1.z(q1[2])\n",
    "    qc1.x(q1[2])\n",
    "qc1.draw()"
   ]
  },
  {
   "cell_type": "code",
   "execution_count": 5,
   "id": "b51cef62",
   "metadata": {},
   "outputs": [
    {
     "name": "stdout",
     "output_type": "stream",
     "text": [
      "[0, 1, 1, 0]\n"
     ]
    }
   ],
   "source": [
    "print(alice_bits)"
   ]
  },
  {
   "cell_type": "code",
   "execution_count": 6,
   "id": "e874ff85",
   "metadata": {},
   "outputs": [
    {
     "data": {
      "text/html": [
       "<pre style=\"word-wrap: normal;white-space: pre;background: #fff0;line-height: 1.1;font-family: &quot;Courier New&quot;,Courier,monospace\">           ┌───┐┌───┐     ┌───┐   ┌─┐   \n",
       "q0_0: ─────┤ X ├┤ X ├──■──┤ H ├───┤M├───\n",
       "      ┌───┐└─┬─┘└───┘┌─┴─┐└───┘┌─┐└╥┘   \n",
       "q0_1: ┤ H ├──■───────┤ X ├─────┤M├─╫────\n",
       "      └───┘┌───┐┌───┐└───┘┌───┐└╥┘ ║ ┌─┐\n",
       "q0_2: ─────┤ X ├┤ Z ├──■──┤ H ├─╫──╫─┤M├\n",
       "      ┌───┐└─┬─┘└───┘┌─┴─┐└┬─┬┘ ║  ║ └╥┘\n",
       "q0_3: ┤ H ├──■───────┤ X ├─┤M├──╫──╫──╫─\n",
       "      └───┘          └───┘ └╥┘  ║  ║  ║ \n",
       "c0: 4/══════════════════════╩═══╩══╩══╩═\n",
       "                            3   1  0  2 </pre>"
      ],
      "text/plain": [
       "           ┌───┐┌───┐     ┌───┐   ┌─┐   \n",
       "q0_0: ─────┤ X ├┤ X ├──■──┤ H ├───┤M├───\n",
       "      ┌───┐└─┬─┘└───┘┌─┴─┐└───┘┌─┐└╥┘   \n",
       "q0_1: ┤ H ├──■───────┤ X ├─────┤M├─╫────\n",
       "      └───┘┌───┐┌───┐└───┘┌───┐└╥┘ ║ ┌─┐\n",
       "q0_2: ─────┤ X ├┤ Z ├──■──┤ H ├─╫──╫─┤M├\n",
       "      ┌───┐└─┬─┘└───┘┌─┴─┐└┬─┬┘ ║  ║ └╥┘\n",
       "q0_3: ┤ H ├──■───────┤ X ├─┤M├──╫──╫──╫─\n",
       "      └───┘          └───┘ └╥┘  ║  ║  ║ \n",
       "c0: 4/══════════════════════╩═══╩══╩══╩═\n",
       "                            3   1  0  2 "
      ]
     },
     "execution_count": 6,
     "metadata": {},
     "output_type": "execute_result"
    }
   ],
   "source": [
    "qc1.cx(q1[0],q1[1])\n",
    "qc1.h(q1[0])\n",
    "qc1.cx(q1[2],q1[3])\n",
    "qc1.h(q1[2])\n",
    "qc1.measure(q1,c1)\n",
    "qc1.draw()"
   ]
  },
  {
   "cell_type": "code",
   "execution_count": 7,
   "id": "bea54665",
   "metadata": {},
   "outputs": [
    {
     "data": {
      "image/png": "[encoded data removed]",
      "text/plain": [
       "<Figure size 504x360 with 1 Axes>"
      ]
     },
     "execution_count": 7,
     "metadata": {},
     "output_type": "execute_result"
    }
   ],
   "source": [
    "sim1=Aer.get_backend(\"qasm_simulator\")\n",
    "job1=execute(qc1,sim1,shots=1024)\n",
    "res1=job1.result()\n",
    "counts1=res1.get_counts()\n",
    "plot_histogram(counts1)"
   ]
  },
  {
   "cell_type": "code",
   "execution_count": 8,
   "id": "f4f06326",
   "metadata": {},
   "outputs": [
    {
     "name": "stderr",
     "output_type": "stream",
     "text": [
      "configrc.store_credentials:WARNING:2021-10-20 19:54:52,923: Credentials already present. Set overwrite=True to overwrite.\n"
     ]
    }
   ],
   "source": [
    "token=\"dd361dfa45da932b3db1d5cfa442a0ea978768d7b94b99a9a698298af70582e25ecc0b0967e89b4937ba0ebad239a74bde4ca5e15bbbc2855a11f508f5437756\"\n",
    "IBMQ.save_account(token)"
   ]
  },
  {
   "cell_type": "code",
   "execution_count": 9,
   "id": "65410255",
   "metadata": {},
   "outputs": [
    {
     "name": "stdout",
     "output_type": "stream",
     "text": [
      "Job Status: job has successfully run\n"
     ]
    }
   ],
   "source": [
    "IBMQ.load_account()\n",
    "provider=IBMQ.get_provider(hub=\"ibm-q\")\n",
    "backend=least_busy(provider.backends(filters=lambda x:x.configuration().n_qubits>=2 and not x.configuration().simulator and x.status().operational==True))\n",
    "job1_r=execute(qc1,backend=backend,shots=1024)\n",
    "job_monitor(job1_r)"
   ]
  },
  {
   "cell_type": "code",
   "execution_count": 10,
   "id": "e5deb916",
   "metadata": {},
   "outputs": [
    {
     "data": {
      "image/png": "[encoded data removed]",
      "text/plain": [
       "<Figure size 504x360 with 1 Axes>"
      ]
     },
     "execution_count": 10,
     "metadata": {},
     "output_type": "execute_result"
    }
   ],
   "source": [
    "res1_r=job1_r.result()\n",
    "counts1_r=res1_r.get_counts()\n",
    "plot_histogram(counts1_r)"
   ]
  },
  {
   "cell_type": "code",
   "execution_count": 11,
   "id": "8ca7b4e3",
   "metadata": {},
   "outputs": [],
   "source": [
    "def bit(dic):\n",
    "    s=max(dic.values())\n",
    "    for i in dic.keys():\n",
    "        if dic[i]==s:\n",
    "            res=i\n",
    "    return res\n",
    "def ber(dic,n):\n",
    "    b=bit(dic)\n",
    "    res=0\n",
    "    for i in dic.keys():\n",
    "        count=0\n",
    "        for j in range(len(i)):\n",
    "            if i[j]!=b[j]:\n",
    "                count+=1\n",
    "        res+=(float(dic[i])/n)*(float(count)/4)\n",
    "    return res"
   ]
  },
  {
   "cell_type": "code",
   "execution_count": 12,
   "id": "30a35aed",
   "metadata": {},
   "outputs": [
    {
     "name": "stdout",
     "output_type": "stream",
     "text": [
      "0110\n"
     ]
    },
    {
     "data": {
      "text/plain": [
       "0.13671875"
      ]
     },
     "execution_count": 12,
     "metadata": {},
     "output_type": "execute_result"
    }
   ],
   "source": [
    "print(bit(counts1_r))\n",
    "ber(counts1_r,1024)"
   ]
  },
  {
   "cell_type": "code",
   "execution_count": null,
   "id": "87d1c4f7",
   "metadata": {},
   "outputs": [],
   "source": []
  },
  {
   "cell_type": "code",
   "execution_count": null,
   "id": "1f60a2cc",
   "metadata": {},
   "outputs": [],
   "source": []
  }
 ],
 "metadata": {
  "kernelspec": {
   "display_name": "Python 3 (ipykernel)",
   "language": "python",
   "name": "python3"
  },
  "language_info": {
   "codemirror_mode": {
    "name": "ipython",
    "version": 3
   },
   "file_extension": ".py",
   "mimetype": "text/x-python",
   "name": "python",
   "nbconvert_exporter": "python",
   "pygments_lexer": "ipython3",
   "version": "3.9.7"
  }
 },
 "nbformat": 4,
 "nbformat_minor": 5
}
