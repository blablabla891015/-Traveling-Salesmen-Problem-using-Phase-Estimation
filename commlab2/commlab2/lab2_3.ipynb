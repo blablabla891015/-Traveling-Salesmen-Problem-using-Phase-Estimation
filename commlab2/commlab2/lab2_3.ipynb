{
 "cells": [
  {
   "cell_type": "code",
   "execution_count": 1,
   "id": "e8eaa251",
   "metadata": {},
   "outputs": [],
   "source": [
    "from numpy.random import randint\n",
    "import numpy as np\n",
    "from qiskit import *\n",
    "from qiskit import IBMQ\n",
    "from qiskit.visualization import plot_histogram,plot_bloch_multivector\n",
    "from qiskit.providers.ibmq import least_busy\n",
    "from qiskit.tools.monitor import job_monitor\n",
    "from math import pi\n",
    "import math"
   ]
  },
  {
   "cell_type": "code",
   "execution_count": 2,
   "id": "bc39eebb",
   "metadata": {},
   "outputs": [
    {
     "name": "stdout",
     "output_type": "stream",
     "text": [
      "[1, 1, 0, 1, 0, 1, 0, 1, 0, 1, 0, 0, 1, 1, 1, 0, 0, 1, 1, 1, 1, 0, 0, 0, 1, 1, 1, 0, 1, 0, 0, 0, 1, 1, 1, 1, 1, 1, 0, 0, 1, 0, 1, 1, 1, 1, 0, 1, 0, 0, 0, 1, 1, 0, 0, 0, 1, 1, 0, 0, 0, 0, 0, 0, 1, 1, 1, 0, 0, 1, 0, 1, 1, 0, 0, 0, 1, 1, 0, 1, 1, 1, 0, 1, 1, 0, 0, 0, 0, 1, 0, 1, 0, 0, 0, 0, 1, 1, 0, 1]\n",
      "first 1\n"
     ]
    }
   ],
   "source": [
    "n=100\n",
    "np.random.seed()\n",
    "alice_bits=list(randint(2,size=n))\n",
    "print(alice_bits)\n",
    "print(\"first\",alice_bits[0])"
   ]
  },
  {
   "cell_type": "code",
   "execution_count": 3,
   "id": "7d207b20",
   "metadata": {},
   "outputs": [],
   "source": [
    "def encode_message(a,b):\n",
    "    n=len(a)\n",
    "    message=[]\n",
    "    #q=QuantumRegister(n)\n",
    "    #c=ClassicalRegister(n)\n",
    "    for i in range(n):\n",
    "        qc=QuantumCircuit(1,1)\n",
    "        if b[i]==0:#computational\n",
    "            if a[i]==0:\n",
    "                pass\n",
    "            else:\n",
    "                qc.x(0)\n",
    "        else:\n",
    "            if a[i]==0:\n",
    "                qc.h(0)\n",
    "            else:\n",
    "                qc.x(0)\n",
    "                qc.h(0)\n",
    "        message.append(qc)\n",
    "    return message\n"
   ]
  },
  {
   "cell_type": "code",
   "execution_count": 4,
   "id": "b219604a",
   "metadata": {},
   "outputs": [
    {
     "name": "stdout",
     "output_type": "stream",
     "text": [
      "[1, 1, 1, 1, 0, 1, 0, 0, 1, 0, 1, 0, 1, 0, 1, 1, 0, 1, 0, 1, 1, 0, 1, 1, 0, 0, 1, 1, 1, 0, 1, 0, 0, 1, 0, 0, 1, 1, 0, 0, 0, 0, 0, 0, 1, 0, 1, 0, 0, 1, 0, 0, 0, 1, 1, 1, 0, 1, 1, 0, 1, 1, 1, 0, 0, 0, 0, 1, 1, 0, 0, 0, 1, 0, 1, 0, 0, 1, 0, 0, 1, 0, 1, 0, 1, 1, 0, 0, 1, 1, 0, 1, 1, 1, 0, 1, 0, 1, 0, 0]\n"
     ]
    }
   ],
   "source": [
    "alice_bases=list(randint(2,size=n))\n",
    "message=encode_message(alice_bits,alice_bases)\n",
    "print(alice_bases)\n",
    "#message.draw()\n",
    "#print(message[101])"
   ]
  },
  {
   "cell_type": "code",
   "execution_count": 5,
   "id": "e42828a5",
   "metadata": {},
   "outputs": [],
   "source": [
    "def intercept_message(m,b):\n",
    "    backend=Aer.get_backend(\"qasm_simulator\")\n",
    "    res=[]\n",
    "    n=len(b)\n",
    "    for i in range(n):\n",
    "        if b[i]==0:\n",
    "            message[i].measure(0,0)\n",
    "        else:\n",
    "            message[i].h(0)\n",
    "            message[i].measure(0,0)\n",
    "            message[i].h(0)\n",
    "        result=execute(message[i],backend,shots=1,memory=True).result()\n",
    "        m_bit=int(result.get_memory()[0])\n",
    "        res.append(m_bit)\n",
    "    return res"
   ]
  },
  {
   "cell_type": "code",
   "execution_count": 6,
   "id": "b75de60c",
   "metadata": {},
   "outputs": [],
   "source": [
    "def intercept_message2(m,b):\n",
    "    backend=Aer.get_backend(\"qasm_simulator\")\n",
    "    res=[]\n",
    "    n=len(b)\n",
    "    for i in range(n):\n",
    "        message[i].ry(-math.pi/4,0)\n",
    "        message[i].measure(0,0)\n",
    "        message[i].ry(math.pi/4,0)\n",
    "        result=execute(message[i],backend,shots=1,memory=True).result()\n",
    "        m_bit=int(result.get_memory()[0])\n",
    "        res.append(m_bit)\n",
    "    return res"
   ]
  },
  {
   "cell_type": "code",
   "execution_count": 7,
   "id": "8bc2787c",
   "metadata": {},
   "outputs": [],
   "source": [
    "#(a)\n",
    "eve_bases=list(randint(2,size=n))\n",
    "intercepted_message=intercept_message(message,eve_bases)\n"
   ]
  },
  {
   "cell_type": "code",
   "execution_count": 7,
   "id": "b7b766b3",
   "metadata": {},
   "outputs": [],
   "source": [
    "#(b)\n",
    "eve_bases=list(randint(2,size=n))\n",
    "intercepted_message=intercept_message2(message,eve_bases)"
   ]
  },
  {
   "cell_type": "code",
   "execution_count": 8,
   "id": "6651536e",
   "metadata": {},
   "outputs": [
    {
     "name": "stdout",
     "output_type": "stream",
     "text": [
      "[1, 1, 0, 1, 0, 1, 0, 1, 0, 1, 0, 1, 1, 0, 1, 0, 0, 0, 0, 1, 1, 0, 0, 1, 0, 1, 0, 1, 1, 0, 0, 0, 1, 1, 0, 1, 1, 1, 0, 0, 1, 1, 0, 1, 1, 0, 1, 1, 0, 0, 0, 1, 1, 0, 0, 0, 0, 1, 1, 0, 0, 1, 0, 0, 1, 0, 1, 0, 0, 1, 0, 0, 1, 1, 0, 0, 1, 1, 0, 0, 1, 0, 0, 0, 1, 0, 0, 0, 1, 1, 0, 1, 1, 1, 0, 1, 1, 1, 0, 1]\n"
     ]
    }
   ],
   "source": [
    "bob_bases=list(randint(2,size=n))\n",
    "bob_bits=intercept_message(message,bob_bases)\n",
    "print(bob_bits)"
   ]
  },
  {
   "cell_type": "code",
   "execution_count": 9,
   "id": "991cca19",
   "metadata": {},
   "outputs": [],
   "source": [
    "def remove_garbage(a_base,b_base,bits):\n",
    "    lis=[]\n",
    "    for i in range(len(a_base)):\n",
    "        if a_base[i]!=b_base[i]:\n",
    "            lis.append(i)\n",
    "    return np.delete(bits,lis)"
   ]
  },
  {
   "cell_type": "code",
   "execution_count": 10,
   "id": "eae09c13",
   "metadata": {},
   "outputs": [],
   "source": [
    "alice_key=remove_garbage(alice_bases,bob_bases,alice_bits)\n",
    "bob_key=remove_garbage(alice_bases,bob_bases,bob_bits)"
   ]
  },
  {
   "cell_type": "code",
   "execution_count": 11,
   "id": "e81387d4",
   "metadata": {},
   "outputs": [
    {
     "name": "stdout",
     "output_type": "stream",
     "text": [
      "[1 1 0 1 0 1 0 0 1 1 1 0 0 1 0 0 1 1 1 1 0 0 0 1 1 0 0 1 0 0 0 0 1 1 0 1 1\n",
      " 0 1 1 1 1 1 0 0 1 1 0 0 1 1 0 1]\n",
      "[1 1 0 1 0 0 0 0 0 1 0 1 0 0 0 0 1 0 1 1 1 0 0 1 1 0 0 1 1 0 0 0 1 1 0 1 0\n",
      " 1 1 1 1 0 0 0 1 1 1 1 0 1 1 0 1]\n",
      "53\n"
     ]
    }
   ],
   "source": [
    "print(alice_key)\n",
    "print(bob_key)\n",
    "print(len(alice_key))"
   ]
  },
  {
   "cell_type": "code",
   "execution_count": 12,
   "id": "5444a0df",
   "metadata": {},
   "outputs": [
    {
     "name": "stdout",
     "output_type": "stream",
     "text": [
      "39\n"
     ]
    }
   ],
   "source": [
    "count=0\n",
    "for j in range(len(alice_key)):\n",
    "    if alice_key[j]==bob_key[j]:\n",
    "        count+=1\n",
    "print(count)"
   ]
  },
  {
   "cell_type": "code",
   "execution_count": 13,
   "id": "5e20e2a8",
   "metadata": {},
   "outputs": [
    {
     "name": "stdout",
     "output_type": "stream",
     "text": [
      "0.7358490566037735\n"
     ]
    }
   ],
   "source": [
    "c=count/len(alice_key)\n",
    "print(c)"
   ]
  },
  {
   "cell_type": "code",
   "execution_count": null,
   "id": "7e8a8e53",
   "metadata": {},
   "outputs": [],
   "source": []
  }
 ],
 "metadata": {
  "kernelspec": {
   "display_name": "Python 3 (ipykernel)",
   "language": "python",
   "name": "python3"
  },
  "language_info": {
   "codemirror_mode": {
    "name": "ipython",
    "version": 3
   },
   "file_extension": ".py",
   "mimetype": "text/x-python",
   "name": "python",
   "nbconvert_exporter": "python",
   "pygments_lexer": "ipython3",
   "version": "3.9.7"
  }
 },
 "nbformat": 4,
 "nbformat_minor": 5
}
